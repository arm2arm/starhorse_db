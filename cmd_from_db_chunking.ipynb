{
 "cells": [
  {
   "cell_type": "markdown",
   "metadata": {
    "collapsed": false
   },
   "source": [
    "If you are using the google colab please uncomment the following lines and run them"
   ]
  },
  {
   "cell_type": "code",
   "execution_count": 0,
   "metadata": {
    "collapsed": false
   },
   "outputs": [
   ],
   "source": [
    "#!pip install pyvo"
   ]
  },
  {
   "cell_type": "markdown",
   "metadata": {
    "collapsed": false
   },
   "source": [
    "# Data query chunking example\n",
    "This example require a token from the gaia.aip.de from your user prferences"
   ]
  },
  {
   "cell_type": "code",
   "execution_count": 1,
   "metadata": {
    "collapsed": false
   },
   "outputs": [
    {
     "name": "stdout",
     "output_type": "stream",
     "text": [
      "select  source_id,xgal,ygal,zgal,rgal,ruwe,mg0,bprp0  from gaiadr2_contrib.starhorse as s where s.SH_OUTFLAG LIKE '00000' AND s.SH_GAIAFLAG LIKE '000'  LIMIT 100000 OFFSET 0\n"
     ]
    },
    {
     "name": "stdout",
     "output_type": "stream",
     "text": [
      "select  source_id,xgal,ygal,zgal,rgal,ruwe,mg0,bprp0  from gaiadr2_contrib.starhorse as s where s.SH_OUTFLAG LIKE '00000' AND s.SH_GAIAFLAG LIKE '000'  LIMIT 100000 OFFSET 100000\n"
     ]
    },
    {
     "name": "stdout",
     "output_type": "stream",
     "text": [
      "select  source_id,xgal,ygal,zgal,rgal,ruwe,mg0,bprp0  from gaiadr2_contrib.starhorse as s where s.SH_OUTFLAG LIKE '00000' AND s.SH_GAIAFLAG LIKE '000'  LIMIT 100000 OFFSET 200000\n"
     ]
    },
    {
     "name": "stdout",
     "output_type": "stream",
     "text": [
      "select  source_id,xgal,ygal,zgal,rgal,ruwe,mg0,bprp0  from gaiadr2_contrib.starhorse as s where s.SH_OUTFLAG LIKE '00000' AND s.SH_GAIAFLAG LIKE '000'  LIMIT 100000 OFFSET 300000\n"
     ]
    },
    {
     "name": "stdout",
     "output_type": "stream",
     "text": [
      "select  source_id,xgal,ygal,zgal,rgal,ruwe,mg0,bprp0  from gaiadr2_contrib.starhorse as s where s.SH_OUTFLAG LIKE '00000' AND s.SH_GAIAFLAG LIKE '000'  LIMIT 100000 OFFSET 400000\n"
     ]
    },
    {
     "name": "stdout",
     "output_type": "stream",
     "text": [
      "select  source_id,xgal,ygal,zgal,rgal,ruwe,mg0,bprp0  from gaiadr2_contrib.starhorse as s where s.SH_OUTFLAG LIKE '00000' AND s.SH_GAIAFLAG LIKE '000'  LIMIT 100000 OFFSET 500000\n"
     ]
    },
    {
     "name": "stdout",
     "output_type": "stream",
     "text": [
      "select  source_id,xgal,ygal,zgal,rgal,ruwe,mg0,bprp0  from gaiadr2_contrib.starhorse as s where s.SH_OUTFLAG LIKE '00000' AND s.SH_GAIAFLAG LIKE '000'  LIMIT 100000 OFFSET 600000\n"
     ]
    },
    {
     "name": "stdout",
     "output_type": "stream",
     "text": [
      "select  source_id,xgal,ygal,zgal,rgal,ruwe,mg0,bprp0  from gaiadr2_contrib.starhorse as s where s.SH_OUTFLAG LIKE '00000' AND s.SH_GAIAFLAG LIKE '000'  LIMIT 100000 OFFSET 700000\n"
     ]
    },
    {
     "name": "stdout",
     "output_type": "stream",
     "text": [
      "select  source_id,xgal,ygal,zgal,rgal,ruwe,mg0,bprp0  from gaiadr2_contrib.starhorse as s where s.SH_OUTFLAG LIKE '00000' AND s.SH_GAIAFLAG LIKE '000'  LIMIT 100000 OFFSET 800000\n"
     ]
    },
    {
     "name": "stdout",
     "output_type": "stream",
     "text": [
      "select  source_id,xgal,ygal,zgal,rgal,ruwe,mg0,bprp0  from gaiadr2_contrib.starhorse as s where s.SH_OUTFLAG LIKE '00000' AND s.SH_GAIAFLAG LIKE '000'  LIMIT 100000 OFFSET 900000\n"
     ]
    },
    {
     "name": "stdout",
     "output_type": "stream",
     "text": [
      "getting results: 0\n"
     ]
    },
    {
     "name": "stdout",
     "output_type": "stream",
     "text": [
      "getting results: 1\n"
     ]
    },
    {
     "name": "stdout",
     "output_type": "stream",
     "text": [
      "getting results: 2\n"
     ]
    },
    {
     "name": "stdout",
     "output_type": "stream",
     "text": [
      "getting results: 3\n"
     ]
    },
    {
     "name": "stdout",
     "output_type": "stream",
     "text": [
      "getting results: 4\n"
     ]
    },
    {
     "name": "stdout",
     "output_type": "stream",
     "text": [
      "getting results: 5\n"
     ]
    },
    {
     "name": "stdout",
     "output_type": "stream",
     "text": [
      "getting results: 6\n"
     ]
    }
   ],
   "source": [
    "import numpy as np\n",
    "import matplotlib.pyplot as plt\n",
    "import pyvo as vo\n",
    "import pandas as pd\n",
    "import matplotlib as mpl\n",
    "#import time\n",
    "\n",
    "# init tap service\n",
    "tap_service = vo.dal.TAPService('https://gaia.aip.de/tap')\n",
    "#vo.utils.http.session.headers['Authorization'] = 'Your Token '\n",
    "\n",
    "# manage the jobs yourself\n",
    "jobs = []\n",
    "\n",
    "limit = 100000\n",
    "total = 1000000\n",
    "qstr=\"select  source_id,xgal,ygal,zgal,rgal,ruwe,mg0,bprp0  from gaiadr2_contrib.starhorse as s where s.SH_OUTFLAG LIKE '00000' AND s.SH_GAIAFLAG LIKE '000' \"\n",
    "i=0\n",
    "for offset in range(0, total, limit):\n",
    "    sql = qstr +' LIMIT %s OFFSET %s' % (limit, offset)\n",
    "    print(sql)\n",
    "    job =     tap_service.submit_job(sql, language='postgresql', runid='batch'+str(i))\n",
    "    job.run()\n",
    "    jobs.append(job)\n",
    "    i=i+1\n",
    "\n",
    "i=0\n",
    "dfvec=[]\n",
    "# collect the results\n",
    "for job in jobs:\n",
    "    print('getting results:',i)\n",
    "    job.raise_if_error()\n",
    "    results = job.fetch_result()\n",
    "    dfvec.append(results.to_table().to_pandas())\n",
    "    i=i+1\n",
    "i=0\n",
    "\n",
    "print('combining...')\n",
    "df=pd.concat(dfvec)\n"
   ]
  },
  {
   "cell_type": "code",
   "execution_count": 0,
   "metadata": {
    "collapsed": false
   },
   "outputs": [
   ],
   "source": [
    "print('plotting...')\n",
    "fig, ax = plt.subplots()\n",
    "sel=(np.abs(df.xgal+8.2)<10)&(np.abs(df.ygal)<10)\n",
    "df[sel].plot(x='xgal',y='ygal',kind='hexbin', xlim=(-18,2),ylim=(-10,10), norm=mpl.colors.LogNorm(),cmap=\"plasma\",ax=ax)\n",
    "fig, ax = plt.subplots()\n",
    "df[sel].plot(x='bprp0',y='mg0',kind='hexbin', ylim=(15,-6), norm=mpl.colors.LogNorm(),cmap=\"jet\", ax=ax)"
   ]
  },
  {
   "cell_type": "code",
   "execution_count": 3,
   "metadata": {
    "collapsed": false
   },
   "outputs": [
    {
     "data": {
      "text/plain": [
       "'0.9.3'"
      ]
     },
     "execution_count": 3,
     "metadata": {
     },
     "output_type": "execute_result"
    }
   ],
   "source": [
    "vo.__version__"
   ]
  },
  {
   "cell_type": "code",
   "execution_count": 0,
   "metadata": {
    "collapsed": false
   },
   "outputs": [
   ],
   "source": [
   ]
  }
 ],
 "metadata": {
  "kernelspec": {
   "display_name": "Python 3.6(py36new)",
   "language": "python",
   "name": "py36new"
  },
  "language_info": {
   "codemirror_mode": {
    "name": "ipython",
    "version": 3
   },
   "file_extension": ".py",
   "mimetype": "text/x-python",
   "name": "python",
   "nbconvert_exporter": "python",
   "pygments_lexer": "ipython3",
   "version": "3.6.11"
  }
 },
 "nbformat": 4,
 "nbformat_minor": 0
}