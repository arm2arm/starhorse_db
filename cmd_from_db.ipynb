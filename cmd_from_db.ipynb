{
 "cells": [
  {
   "cell_type": "markdown",
   "metadata": {
    "collapsed": false
   },
   "source": [
    "If you are using the google colab please uncomment the following lines and run them"
   ]
  },
  {
   "cell_type": "code",
   "execution_count": 1,
   "metadata": {
    "collapsed": false
   },
   "outputs": [
   ],
   "source": [
    "#!pip install pyvo"
   ]
  },
  {
   "cell_type": "markdown",
   "metadata": {
    "collapsed": false
   },
   "source": [
    "# Get the data by single query\n",
    "* Activate TAP with anonymous user over the url:https://gaia.aip.de/tap\n",
    "* add Authorization header to vo connection\n",
    " * you can find the the token on the menu entry at gaia.aip.de->username->API token\n",
    " * **NOTE**: *The anonymous query does not require authorisation token*\n",
    "* query using the search service"
   ]
  },
  {
   "cell_type": "code",
   "execution_count": 3,
   "metadata": {
    "collapsed": false
   },
   "outputs": [
   ],
   "source": [
    "import numpy as np\n",
    "import matplotlib.pyplot as plt\n",
    "import matplotlib as mpl\n",
    "import pyvo as vo\n",
    "#Activate TAP with anonymous user\n",
    "service = vo.dal.TAPService(\"https://gaia.aip.de/tap\")\n",
    "# if you need to user your account provide the token\n",
    "# NOTE: token you can find in the user preferenses at the gaia.aip.de web site.\n",
    "# vo.utils.http.session.headers['Authorization'] = 'Your Token '\n",
    "\n",
    "resultset = service.search(\"select top 100000 *  from gaiadr2_contrib.starhorse  where SH_OUTFLAG LIKE '00000' AND SH_GAIAFLAG LIKE '000' \")\n",
    "df=resultset.to_table().to_pandas()\n",
    "df.plot(x='xgal',y='ygal',kind='scatter')\n",
    "fig, ax = plt.subplots()\n",
    "sel=(np.abs(df.xgal+8.2)<10)&(np.abs(df.ygal)<10)\n",
    "df[sel].plot(x='xgal',y='ygal',kind='hexbin', xlim=(-18,2),ylim=(-10,10), norm=mpl.colors.LogNorm(),cmap=\"plasma\",ax=ax)\n",
    "fig, ax = plt.subplots()\n",
    "df[sel].plot(x='bprp0',y='mg0',kind='hexbin', ylim=(15,-6), norm=mpl.colors.LogNorm(),cmap=\"jet\", ax=ax)"
   ]
  },
  {
   "cell_type": "code",
   "execution_count": 0,
   "metadata": {
    "collapsed": false
   },
   "outputs": [
   ],
   "source": [
   ]
  }
 ],
 "metadata": {
  "kernelspec": {
   "display_name": "Python 3.6(py36new)",
   "language": "python",
   "name": "py36new"
  },
  "language_info": {
   "codemirror_mode": {
    "name": "ipython",
    "version": 3
   },
   "file_extension": ".py",
   "mimetype": "text/x-python",
   "name": "python",
   "nbconvert_exporter": "python",
   "pygments_lexer": "ipython3",
   "version": "3.6.11"
  }
 },
 "nbformat": 4,
 "nbformat_minor": 0
}